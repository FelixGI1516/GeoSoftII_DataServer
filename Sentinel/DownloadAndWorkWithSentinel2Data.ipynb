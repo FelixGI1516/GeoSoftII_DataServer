{
 "cells": [
  {
   "cell_type": "markdown",
   "metadata": {},
   "source": [
    "ToDo:\n",
    "    - Georeferencing\n",
    "    - Tests\n",
    "    - Fehlermedlung der API einbauen\n",
    "    - "
   ]
  },
  {
   "cell_type": "code",
   "execution_count": 71,
   "metadata": {},
   "outputs": [],
   "source": [
    "from sentinelsat import SentinelAPI, read_geojson, geojson_to_wkt\n",
    "import geopandas as gpd\n",
    "import getpass\n",
    "import xarray\n",
    "import rasterio as rio\n",
    "import os\n",
    "import pandas as pd\n",
    "import numpy as np\n",
    "import shutil\n",
    "from time import sleep\n",
    "import stat\n",
    "import io\n",
    "\n",
    "directory = 'C:/Users/adria/Desktop/Uni/Semester5/Geosoft2/Github/GeoSoftII_DataServer/Sentinel/Data'\n",
    "resolution = 10    #10, 20 ,60 möglich"
   ]
  },
  {
   "cell_type": "code",
   "execution_count": 72,
   "metadata": {},
   "outputs": [],
   "source": [
    "def downloadingData (aoi, collectionDate, plName, prLevel, clouds):\n",
    "    '''\n",
    "    Downloads the Sentinel2-Data with the given parameters\n",
    "    \n",
    "    Parameter: \n",
    "        aoi(str) = The type and the coordinates of the area of interest\n",
    "        collectionDate = The date of the data\n",
    "        plName(str) = The name of the platform\n",
    "        prLevel(str) = The name of the process\n",
    "        clouds = The allowed percentage of the cloudcover\n",
    "    '''\n",
    "    \n",
    "    '''Loggin in the Scihub - API with username and password'''\n",
    "    username = getpass.getpass(\"user: \")\n",
    "    password = getpass.getpass(\"password: \")\n",
    "    api = SentinelAPI(username, password, 'https://scihub.copernicus.eu/dhus')\n",
    "    \n",
    "    '''Choosing the data with bounding box (footprint), date, platformname, processinglevel and cloudcoverpercentage'''\n",
    "    products = api.query(aoi, date = collectionDate, platformname = plName, processinglevel = prLevel, cloudcoverpercentage = clouds)\n",
    "    \n",
    "    '''Filters the products and sort the by cloudcoverpercentage'''\n",
    "    products_gdf = api.to_geodataframe(products)\n",
    "    products_gdf_sorted = products_gdf.sort_values(['cloudcoverpercentage'], ascending=[True])\n",
    "    \n",
    "    '''Downloads the choosen files from Scihub'''\n",
    "    #saveFile(products_gdf_sorted)\n",
    "\n",
    "    products_gdf_sorted.to_csv('w')\n",
    "    api.download_all(products,directory, max_attempts=10, checksum=True)"
   ]
  },
  {
   "cell_type": "code",
   "execution_count": 73,
   "metadata": {},
   "outputs": [],
   "source": [
    "def listDir (path):\n",
    "    '''\n",
    "    Lists all files from the given directory\n",
    "    \n",
    "    Parameter: \n",
    "        path(str): Path to the directory\n",
    "        \n",
    "    Returns:\n",
    "        path(str[]): An array of all filenames\n",
    "    '''\n",
    "    return os.listdir(path)"
   ]
  },
  {
   "cell_type": "code",
   "execution_count": 74,
   "metadata": {},
   "outputs": [],
   "source": [
    "from zipfile import ZipFile\n",
    "def unzip (filename):\n",
    "    '''\n",
    "    Unzips the file with the given filename\n",
    "    \n",
    "    Parameter: \n",
    "        filename(str): Name of the .zip file\n",
    "    '''\n",
    "    with ZipFile(os.path.join(directory, filename), 'r') as zipObj:\n",
    "        zipObj.extractall(directory)"
   ]
  },
  {
   "cell_type": "code",
   "execution_count": 75,
   "metadata": {},
   "outputs": [],
   "source": [
    "def delete (path):\n",
    "    '''\n",
    "    Deletes the file/directory with the given path\n",
    "    \n",
    "    Parameter: \n",
    "        path(str): Path to the file/directory\n",
    "    '''\n",
    "    if os.path.exists(path):\n",
    "        os.remove(path)\n",
    "        print(\"File deleted: \" + path)\n",
    "    else:\n",
    "        print(\"The file does not exist\")"
   ]
  },
  {
   "cell_type": "code",
   "execution_count": 76,
   "metadata": {},
   "outputs": [],
   "source": [
    "def extractBands (filename,resolution):\n",
    "    '''\n",
    "    Extracts bandpaths from .SAFE file\n",
    "    \n",
    "    Parameter: \n",
    "        filename(str): Sentinel .SAFE file\n",
    "        \n",
    "    Returns:\n",
    "        bandPaths(str[]): An array of the paths for the red and nir band\n",
    "    '''\n",
    "    lTwoA = listDir(os.path.join(directory, filename, \"GRANULE\"))\n",
    "    \n",
    "    if resolution == 60:\n",
    "        bandName = listDir (os.path.join(directory, filename, \"GRANULE\", str(lTwoA[0]), \"IMG_DATA\", \"R60m\"))\n",
    "        pathRed = os.path.join(directory, filename, \"GRANULE\", str(lTwoA[0]), \"IMG_DATA\", \"R60m\", str(bandName[4]))\n",
    "        pathNIR = os.path.join(directory, filename, \"GRANULE\", str(lTwoA[0]), \"IMG_DATA\", \"R60m\", str(bandName[11]))\n",
    "        bandPaths = [pathRed, pathNIR]\n",
    "    \n",
    "    elif resolution == 20:   \n",
    "        bandName = listDir (os.path.join(directory, filename, \"GRANULE\", str(lTwoA[0]), \"IMG_DATA\", \"R20m\"))\n",
    "        pathRed = os.path.join(directory, filename, \"GRANULE\", str(lTwoA[0]), \"IMG_DATA\", \"R20m\", str(bandName[3]))\n",
    "        pathNIR = os.path.join(directory, filename, \"GRANULE\", str(lTwoA[0]), \"IMG_DATA\", \"R20m\", str(bandName[9]))\n",
    "        bandPaths = [pathRed, pathNIR]\n",
    "    \n",
    "    elif resolution == 10:\n",
    "        bandName = listDir (os.path.join(directory, filename, \"GRANULE\", str(lTwoA[0]), \"IMG_DATA\", \"R10m\"))\n",
    "        pathRed = os.path.join(directory, filename, \"GRANULE\", str(lTwoA[0]), \"IMG_DATA\", \"R10m\", str(bandName[3]))\n",
    "        pathNIR = os.path.join(directory, filename, \"GRANULE\", str(lTwoA[0]), \"IMG_DATA\", \"R10m\", str(bandName[4]))\n",
    "        bandPaths = [pathRed, pathNIR]\n",
    "    else:\n",
    "        print(\"no such resolution\")\n",
    "        return -1\n",
    "    \n",
    "    return bandPaths"
   ]
  },
  {
   "cell_type": "code",
   "execution_count": 77,
   "metadata": {},
   "outputs": [],
   "source": [
    "def loadBand (bandpath,date,tile,resolution):\n",
    "    '''\n",
    "    Opens and reads the red and nir band, saves them as NetCDF file\n",
    "    \n",
    "    Parameter: \n",
    "        bandPaths(str[]): Array with the paths to the red and nir band\n",
    "    '''\n",
    "    b4 = rio.open(bandpath[0])\n",
    "    b8 = rio.open(bandpath[1])\n",
    "    red = b4.read()\n",
    "    nir = b8.read()    \n",
    "    \n",
    "    print(b8.bounds)\n",
    "    print(b8.crs)\n",
    "\n",
    "    if resolution==10:\n",
    "        res=1830*3*2\n",
    "    elif resolution == 20:\n",
    "        res = 1830*3\n",
    "    elif resolution == 60:\n",
    "        res = 1830\n",
    "    else:\n",
    "        print(\"No such resolution\")\n",
    "        return -1\n",
    "    \n",
    "    j=res-1\n",
    "    i=0\n",
    "    lat = [0]*res\n",
    "    lon = [0]*res\n",
    "    while j>=0:\n",
    "        lon[i]=b4.bounds.left + i*resolution\n",
    "        lat[i]=b4.bounds.bottom + j*resolution\n",
    "        i=i+1\n",
    "        j=j-1\n",
    "\n",
    "\n",
    "    time = pd.date_range(date, periods=1)\n",
    "    \n",
    "    dataset = xarray.Dataset(\n",
    "          {\n",
    "        \"red\": ([\"time\",\"lat\", \"lon\"], red),\n",
    "        \"nir\": ([\"time\",\"lat\", \"lon\"], nir)\n",
    "        },\n",
    "         coords=dict( \n",
    "            time=time,\n",
    "            lat=([\"lat\"], lat),\n",
    "            lon=([\"lon\"], lon),\n",
    "        ),\n",
    "         attrs=dict(       \n",
    "             platform= plName,\n",
    "             processingLevel= prLevel,\n",
    "             cloudcover = clouds,\n",
    "             source = \"https://scihub.copernicus.eu/dhus\"\n",
    "         ),\n",
    "    )\n",
    "  \n",
    "    print(dataset)\n",
    "\n",
    "    dataset.to_netcdf(directory+\"/Data\"+\"datacube_\"+str(date)+\"_\"+str(tile)+\"_R\"+str(resolution)+\".nc\", 'w', format='NETCDF4')\n",
    "    b4.close()\n",
    "    b8.close()\n",
    "    return dataset"
   ]
  },
  {
   "cell_type": "code",
   "execution_count": 78,
   "metadata": {},
   "outputs": [],
   "source": [
    "def getDate(filename):\n",
    "    '''\n",
    "    extracts the Date of the Sentinelfilename\n",
    "    Parameters:\n",
    "        filename (str): name of the file\n",
    "    Returns: \n",
    "        (str): Date of the File (\"2020-12-31\")\n",
    "    '''\n",
    "    return filename[11:15]+\"-\"+filename[15:17]+\"-\"+filename[17:19]"
   ]
  },
  {
   "cell_type": "code",
   "execution_count": 79,
   "metadata": {},
   "outputs": [],
   "source": [
    "def getTile(filename):\n",
    "    '''\n",
    "    extracts the UTM-tile of the Sentinelfilename\n",
    "    Parameters:\n",
    "        filename (str): name of the file\n",
    "    Returns: \n",
    "        (str): UTM-tile of the File (\"31UMC\")\n",
    "    '''\n",
    "    return filename[38:44]"
   ]
  },
  {
   "cell_type": "code",
   "execution_count": 80,
   "metadata": {},
   "outputs": [],
   "source": [
    "def on_rm_error( func, path, exc_info):\n",
    "       # path contains the path of the file that couldn't be removed\n",
    "       # let's just assume that it's read-only and unlink it.\n",
    "       os.chmod( path, stat.S_IWRITE )\n",
    "       os.unlink( path )\n"
   ]
  },
  {
   "cell_type": "markdown",
   "metadata": {},
   "source": [
    "Execution methods"
   ]
  },
  {
   "cell_type": "code",
   "execution_count": 81,
   "metadata": {},
   "outputs": [],
   "source": [
    "'''Parameters for the download'''\n",
    "aoi = 'POLYGON((7.181324516246491 52.15109039913986,8.04022788336513 52.151774818649216,8.043574260120138 51.69984086555013,7.166823550308125 51.70675374223106,7.181324516246491 52.15109039913986,7.181324516246491 52.15109039913986))'\n",
    "collectionDate = ('20200601', '20200605')\n",
    "plName = 'Sentinel-2'\n",
    "prLevel = 'Level-2A'\n",
    "clouds = (0,30)"
   ]
  },
  {
   "cell_type": "code",
   "execution_count": 82,
   "metadata": {},
   "outputs": [
    {
     "data": {
      "text/plain": [
       "'Downloading the data'"
      ]
     },
     "execution_count": 82,
     "metadata": {},
     "output_type": "execute_result"
    }
   ],
   "source": [
    "'''Downloading the data'''\n",
    "# downloadingData (aoi, collectionDate, plName, prLevel, clouds)"
   ]
  },
  {
   "cell_type": "code",
   "execution_count": 83,
   "metadata": {},
   "outputs": [],
   "source": [
    "'''Unzips all data and deletes .zip file'''\n",
    "for filename in os.listdir(directory):\n",
    "    if filename.endswith(\".zip\"): \n",
    "        unzip(filename)\n",
    "        delete(os.path.join(directory, filename))\n",
    "        continue\n",
    "    else:\n",
    "        continue"
   ]
  },
  {
   "cell_type": "code",
   "execution_count": 84,
   "metadata": {
    "scrolled": true
   },
   "outputs": [
    {
     "name": "stdout",
     "output_type": "stream",
     "text": [
      "BoundingBox(left=699960.0, bottom=5690220.0, right=809760.0, top=5800020.0)\n",
      "EPSG:32631\n",
      "<xarray.Dataset>\n",
      "Dimensions:  (lat: 10980, lon: 10980, time: 1)\n",
      "Coordinates:\n",
      "  * time     (time) datetime64[ns] 2020-06-01\n",
      "  * lat      (lat) float64 5.8e+06 5.8e+06 5.8e+06 ... 5.69e+06 5.69e+06\n",
      "  * lon      (lon) float64 7e+05 7e+05 7e+05 ... 8.097e+05 8.097e+05 8.098e+05\n",
      "Data variables:\n",
      "    red      (time, lat, lon) uint16 231 218 227 271 319 ... 409 456 433 470 544\n",
      "    nir      (time, lat, lon) uint16 4086 3837 3429 3088 ... 3846 3740 3602 3588\n",
      "Attributes:\n",
      "    platform:         Sentinel-2\n",
      "    processingLevel:  Level-2A\n",
      "    cloudcover:       (0, 30)\n",
      "    source:           https://scihub.copernicus.eu/dhus\n"
     ]
    }
   ],
   "source": [
    "'''Works with .SAFE data'''\n",
    "for filename in os.listdir(directory):\n",
    "    if filename.endswith(\".SAFE\"): \n",
    "        bandPath = extractBands(os.path.join(directory, filename),resolution)\n",
    "        loadBand(bandPath,getDate(filename),getTile(filename),resolution)\n",
    "        sleep(0.5)\n",
    "#         shutil.rmtree(os.path.join(directory, filename) , onerror = on_rm_error ) #delete safe datei\n",
    "        continue\n",
    "    else:\n",
    "        continue"
   ]
  },
  {
   "cell_type": "code",
   "execution_count": null,
   "metadata": {},
   "outputs": [],
   "source": []
  }
 ],
 "metadata": {
  "kernelspec": {
   "display_name": "Python 3",
   "language": "python",
   "name": "python3"
  },
  "language_info": {
   "codemirror_mode": {
    "name": "ipython",
    "version": 3
   },
   "file_extension": ".py",
   "mimetype": "text/x-python",
   "name": "python",
   "nbconvert_exporter": "python",
   "pygments_lexer": "ipython3",
   "version": "3.9.1"
  }
 },
 "nbformat": 4,
 "nbformat_minor": 4
}
